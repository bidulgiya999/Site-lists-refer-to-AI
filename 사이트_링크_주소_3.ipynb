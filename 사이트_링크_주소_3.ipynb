{
  "cells": [
    {
      "cell_type": "markdown",
      "metadata": {
        "id": "view-in-github",
        "colab_type": "text"
      },
      "source": [
        "<a href=\"https://colab.research.google.com/github/bidulgiya999/Site-lists-refer-to-AI/blob/main/%EC%82%AC%EC%9D%B4%ED%8A%B8_%EB%A7%81%ED%81%AC_%EC%A3%BC%EC%86%8C_3.ipynb\" target=\"_parent\"><img src=\"https://colab.research.google.com/assets/colab-badge.svg\" alt=\"Open In Colab\"/></a>"
      ]
    },
    {
      "cell_type": "markdown",
      "id": "838c5f05",
      "metadata": {
        "id": "838c5f05"
      },
      "source": [
        "국내\n",
        "- 공공데이터포털\n",
        "https://www.data.go.kr\n",
        "- 영화진흥위원회\n",
        "http://www.kofic.or.kr/kofic/business/main/main.do\n",
        "- 우리나라 영화에 대한 정보를 DB검색을 통해 게시판 형태로 공개\n",
        "- 한국소비자원 참가격\n",
        "http://www.price.go.kr/tprice/portal/main/main.do\n",
        "- 한국에서 거래되는 물품들의 가격 동향을 기간별 DB 검색을 통한 게시판 형태로 공개\n",
        "- SK telecom Big Data Hub\n",
        "http://www.bigdatahub.co.kr\n",
        "- 통화량 관련 데이터를 파일로 제공\n",
        "- 네이버 데이터랩\n",
        "http://datalab.naver.com/\n",
        "- 서울시 데이터\n",
        "- 6-1. 서울연구데이터 서비스\n",
        "http://data.si.re.kr/\n",
        "- 6-2. 서울 열린데이터광장\n",
        "http://data.seoul.go.kr/\n",
        "- 6-3. 서울특별시 빅데이터 캠퍼스\n",
        "https://bigdata.seoul.go.kr/data/selectPageListDataSet.do?r_id=P210\n",
        "- 빅데이터 분석 최신 동향 및 실습 데이터\n",
        "https://kbig.kr/#none\n",
        " - 금융관련 데이터\n",
        "- 8-1. 금융통계정보시스템\n",
        "http://fisis.fss.or.kr/\n",
        "- 8-2. 금융위원회\n",
        "http://www.fsc.go.kr/\n",
        "- 8-3. 한국금융연구원\n",
        "http://www.kif.re.kr/\n",
        "- 8-4. 한국거래소\n",
        "- http://www.krx.co.kr/sns/sta/sta_l_002.jsp\n",
        "- 통계사이트\n",
        "http://www.kosis.kr/\n",
        "- 경제 통계\n",
        "http://ecos.bok.or.kr/\n",
        "- 보건\n",
        "- 11-1. 보건 통계\n",
        "http://stat.mw.go.kr/\n",
        "- 11-2. 국민건강보험공단\n",
        "https://nhiss.nhis.or.kr/\n",
        "- 11-3. 심평원\n",
        "http://opendata.hira.or.kr/home.do#none\n",
        "- 교육 통계\n",
        "http://cesi.kedi.re.kr/\n",
        "- 의료 통계\n",
        "https://www.hira.or.kr/\n",
        "- 특허 통계\n",
        "- 14-1. 키프리스\n",
        "http://www.kipris.or.kr\n",
        "- 14-2. 윕스온\n",
        "http://www.wipson.com\n",
        "- 14-3. 위즈도메인\n",
        "http://www.wisdomain.com\n",
        "- 공동주택 관리 정보 시스템\n",
        "http://www.k-apt.go.kr/\n",
        "- AI 오픈이노베이션 허브\n",
        "https://www.aihub.or.kr/\n",
        "- 해외\n",
        "- Kaggle\n",
        "https://www.kaggle.com/datasets\n",
        "- Quandl\n",
        "https://www.kaggle.com/datasets\n",
        "- 해외 금융, 경제 관련 데이터 셋\n",
        "- KDnuggets\n",
        "http://www.kdnuggets.com/datasets/index.html\n",
        "- Data Science Central\n",
        "http://www.datasciencecentral.com/profiles/blogs/big-data-sets-available-for-free\n",
        "- UCI Machine Learning Repository\n",
        "http://www.ics.uci.edu/~mlearn/MLRepository.html\n",
        "- OECD Health Data http://titania.sourceoecd.org/vl=3705678/cl=20/nw=1/rpsv/statistic/s37_about.htm?jnlissn=99991012"
      ]
    }
  ],
  "metadata": {
    "kernelspec": {
      "display_name": "Python 3 (ipykernel)",
      "language": "python",
      "name": "python3"
    },
    "language_info": {
      "codemirror_mode": {
        "name": "ipython",
        "version": 3
      },
      "file_extension": ".py",
      "mimetype": "text/x-python",
      "name": "python",
      "nbconvert_exporter": "python",
      "pygments_lexer": "ipython3",
      "version": "3.11.4"
    },
    "colab": {
      "provenance": [],
      "include_colab_link": true
    }
  },
  "nbformat": 4,
  "nbformat_minor": 5
}